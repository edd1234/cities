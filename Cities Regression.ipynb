{
 "cells": [
  {
   "cell_type": "code",
   "execution_count": 1,
   "id": "7238770a",
   "metadata": {},
   "outputs": [],
   "source": [
    "import numpy as np\n",
    "import pandas as pd\n",
    "import matplotlib.pyplot as plt\n",
    "import statsmodels.api as sm"
   ]
  },
  {
   "cell_type": "code",
   "execution_count": 3,
   "id": "1900c386",
   "metadata": {},
   "outputs": [],
   "source": [
    "crime_data = pd.read_csv('data/Cities - Crime.csv')"
   ]
  },
  {
   "cell_type": "code",
   "execution_count": 17,
   "id": "e83abe05",
   "metadata": {},
   "outputs": [],
   "source": [
    "crime_data.sort_values([\"#\"], \n",
    "                    axis=0,\n",
    "                    ascending=[True], \n",
    "                    inplace=True)"
   ]
  },
  {
   "cell_type": "code",
   "execution_count": 20,
   "id": "b776fc5a",
   "metadata": {},
   "outputs": [],
   "source": [
    "arr = crime_data.iloc[:,1:]\n",
    "df = pd.DataFrame(arr)\n",
    "df.to_csv(\"data/Cities - Crime.csv\")"
   ]
  },
  {
   "cell_type": "code",
   "execution_count": null,
   "id": "ce2d12d1",
   "metadata": {},
   "outputs": [],
   "source": []
  },
  {
   "cell_type": "code",
   "execution_count": null,
   "id": "0cdede97",
   "metadata": {},
   "outputs": [],
   "source": []
  }
 ],
 "metadata": {
  "kernelspec": {
   "display_name": "Python 3 (ipykernel)",
   "language": "python",
   "name": "python3"
  },
  "language_info": {
   "codemirror_mode": {
    "name": "ipython",
    "version": 3
   },
   "file_extension": ".py",
   "mimetype": "text/x-python",
   "name": "python",
   "nbconvert_exporter": "python",
   "pygments_lexer": "ipython3",
   "version": "3.10.4"
  }
 },
 "nbformat": 4,
 "nbformat_minor": 5
}
