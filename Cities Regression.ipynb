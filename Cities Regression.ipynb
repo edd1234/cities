{
 "cells": [
  {
   "cell_type": "code",
   "execution_count": 1,
   "id": "7238770a",
   "metadata": {},
   "outputs": [],
   "source": [
    "import numpy as np\n",
    "import pandas as pd\n",
    "import matplotlib.pyplot as plt\n",
    "import statsmodels.api as sm"
   ]
  },
  {
   "cell_type": "code",
   "execution_count": 2,
   "id": "1900c386",
   "metadata": {},
   "outputs": [],
   "source": [
    "crime_data = pd.read_csv('data/Cities - Crime.csv')"
   ]
  },
  {
   "cell_type": "code",
   "execution_count": 3,
   "id": "e83abe05",
   "metadata": {},
   "outputs": [
    {
     "data": {
      "text/html": [
       "<div>\n",
       "<style scoped>\n",
       "    .dataframe tbody tr th:only-of-type {\n",
       "        vertical-align: middle;\n",
       "    }\n",
       "\n",
       "    .dataframe tbody tr th {\n",
       "        vertical-align: top;\n",
       "    }\n",
       "\n",
       "    .dataframe thead th {\n",
       "        text-align: right;\n",
       "    }\n",
       "</style>\n",
       "<table border=\"1\" class=\"dataframe\">\n",
       "  <thead>\n",
       "    <tr style=\"text-align: right;\">\n",
       "      <th></th>\n",
       "      <th>#</th>\n",
       "      <th>Name</th>\n",
       "      <th>State</th>\n",
       "      <th>Violent Crime Rates (2018)</th>\n",
       "      <th>VCR per 100,000 People</th>\n",
       "      <th>% Change (2010-2020)</th>\n",
       "    </tr>\n",
       "  </thead>\n",
       "  <tbody>\n",
       "    <tr>\n",
       "      <th>0</th>\n",
       "      <td>0</td>\n",
       "      <td>New York City</td>\n",
       "      <td>New York</td>\n",
       "      <td>46113</td>\n",
       "      <td>549.61</td>\n",
       "      <td>7.69</td>\n",
       "    </tr>\n",
       "    <tr>\n",
       "      <th>1</th>\n",
       "      <td>1</td>\n",
       "      <td>Los Angeles</td>\n",
       "      <td>California</td>\n",
       "      <td>30126</td>\n",
       "      <td>757.39</td>\n",
       "      <td>2.67</td>\n",
       "    </tr>\n",
       "    <tr>\n",
       "      <th>2</th>\n",
       "      <td>2</td>\n",
       "      <td>Chicago</td>\n",
       "      <td>Illinois</td>\n",
       "      <td>27357</td>\n",
       "      <td>1012.69</td>\n",
       "      <td>1.92</td>\n",
       "    </tr>\n",
       "    <tr>\n",
       "      <th>3</th>\n",
       "      <td>3</td>\n",
       "      <td>Houston</td>\n",
       "      <td>Texas</td>\n",
       "      <td>24062</td>\n",
       "      <td>1037.79</td>\n",
       "      <td>9.69</td>\n",
       "    </tr>\n",
       "    <tr>\n",
       "      <th>4</th>\n",
       "      <td>4</td>\n",
       "      <td>Phoenix</td>\n",
       "      <td>Arizona</td>\n",
       "      <td>12110</td>\n",
       "      <td>731.87</td>\n",
       "      <td>11.21</td>\n",
       "    </tr>\n",
       "    <tr>\n",
       "      <th>...</th>\n",
       "      <td>...</td>\n",
       "      <td>...</td>\n",
       "      <td>...</td>\n",
       "      <td>...</td>\n",
       "      <td>...</td>\n",
       "      <td>...</td>\n",
       "    </tr>\n",
       "    <tr>\n",
       "      <th>183</th>\n",
       "      <td>183</td>\n",
       "      <td>McAllen</td>\n",
       "      <td>Texas</td>\n",
       "      <td>122</td>\n",
       "      <td>85.60</td>\n",
       "      <td>9.52</td>\n",
       "    </tr>\n",
       "    <tr>\n",
       "      <th>184</th>\n",
       "      <td>184</td>\n",
       "      <td>Thornton</td>\n",
       "      <td>Colorado</td>\n",
       "      <td>378</td>\n",
       "      <td>271.26</td>\n",
       "      <td>19.50</td>\n",
       "    </tr>\n",
       "    <tr>\n",
       "      <th>185</th>\n",
       "      <td>185</td>\n",
       "      <td>Visalia</td>\n",
       "      <td>California</td>\n",
       "      <td>450</td>\n",
       "      <td>337.26</td>\n",
       "      <td>13.76</td>\n",
       "    </tr>\n",
       "    <tr>\n",
       "      <th>186</th>\n",
       "      <td>186</td>\n",
       "      <td>Denton</td>\n",
       "      <td>Texas</td>\n",
       "      <td>439</td>\n",
       "      <td>317.39</td>\n",
       "      <td>24.47</td>\n",
       "    </tr>\n",
       "    <tr>\n",
       "      <th>187</th>\n",
       "      <td>187</td>\n",
       "      <td>Kent</td>\n",
       "      <td>Washington</td>\n",
       "      <td>452</td>\n",
       "      <td>343.12</td>\n",
       "      <td>47.98</td>\n",
       "    </tr>\n",
       "  </tbody>\n",
       "</table>\n",
       "<p>188 rows × 6 columns</p>\n",
       "</div>"
      ],
      "text/plain": [
       "       #           Name       State  Violent Crime Rates (2018)  \\\n",
       "0      0  New York City    New York                       46113   \n",
       "1      1    Los Angeles  California                       30126   \n",
       "2      2        Chicago    Illinois                       27357   \n",
       "3      3        Houston       Texas                       24062   \n",
       "4      4        Phoenix     Arizona                       12110   \n",
       "..   ...            ...         ...                         ...   \n",
       "183  183        McAllen       Texas                         122   \n",
       "184  184       Thornton    Colorado                         378   \n",
       "185  185        Visalia  California                         450   \n",
       "186  186         Denton       Texas                         439   \n",
       "187  187           Kent  Washington                         452   \n",
       "\n",
       "     VCR per 100,000 People  % Change (2010-2020)  \n",
       "0                    549.61                  7.69  \n",
       "1                    757.39                  2.67  \n",
       "2                   1012.69                  1.92  \n",
       "3                   1037.79                  9.69  \n",
       "4                    731.87                 11.21  \n",
       "..                      ...                   ...  \n",
       "183                   85.60                  9.52  \n",
       "184                  271.26                 19.50  \n",
       "185                  337.26                 13.76  \n",
       "186                  317.39                 24.47  \n",
       "187                  343.12                 47.98  \n",
       "\n",
       "[188 rows x 6 columns]"
      ]
     },
     "execution_count": 3,
     "metadata": {},
     "output_type": "execute_result"
    }
   ],
   "source": [
    "crime_data"
   ]
  },
  {
   "cell_type": "markdown",
   "id": "7737e3df",
   "metadata": {},
   "source": [
    "## Questions To Ask\n",
    "<p>Is there a relationship between crime rates and population growth?<p>\n",
    "    <ul><li>Yes there is a statistically significant result (t-stat = -5.277), but the correlation is weak (r<sup>2</sup> = .130).</li></ul>\n",
    "    <ul><li>Crime rates do appear to impact city growth (e.g. people moving away from unsafe cities), but does not appear to be the primary  reason. In addition, it is not clear whether this relationship is causal. (e.g. it might be that poor economic conditions in cities cause people to leave and to commit more crime at the same time)</li></ul>"
   ]
  },
  {
   "cell_type": "code",
   "execution_count": 9,
   "id": "ce2d12d1",
   "metadata": {},
   "outputs": [],
   "source": [
    "y = crime_data['% Change (2010-2020)']\n",
    "x = crime_data['VCR per 100,000 People']"
   ]
  },
  {
   "cell_type": "code",
   "execution_count": 10,
   "id": "0cdede97",
   "metadata": {},
   "outputs": [
    {
     "data": {
      "text/plain": [
       "<matplotlib.collections.PathCollection at 0x7fd710541960>"
      ]
     },
     "execution_count": 10,
     "metadata": {},
     "output_type": "execute_result"
    },
    {
     "data": {
      "image/png": "[encoded data removed]",
      "text/plain": [
       "<Figure size 432x288 with 1 Axes>"
      ]
     },
     "metadata": {
      "needs_background": "light"
     },
     "output_type": "display_data"
    }
   ],
   "source": [
    "plt.scatter(x,y)"
   ]
  },
  {
   "cell_type": "code",
   "execution_count": 12,
   "id": "0a95fb2e",
   "metadata": {},
   "outputs": [
    {
     "data": {
      "text/html": [
       "<table class=\"simpletable\">\n",
       "<caption>OLS Regression Results</caption>\n",
       "<tr>\n",
       "  <th>Dep. Variable:</th>    <td>% Change (2010-2020)</td> <th>  R-squared:         </th> <td>   0.130</td>\n",
       "</tr>\n",
       "<tr>\n",
       "  <th>Model:</th>                     <td>OLS</td>         <th>  Adj. R-squared:    </th> <td>   0.126</td>\n",
       "</tr>\n",
       "<tr>\n",
       "  <th>Method:</th>               <td>Least Squares</td>    <th>  F-statistic:       </th> <td>   27.85</td>\n",
       "</tr>\n",
       "<tr>\n",
       "  <th>Date:</th>               <td>Tue, 23 Aug 2022</td>   <th>  Prob (F-statistic):</th> <td>3.63e-07</td>\n",
       "</tr>\n",
       "<tr>\n",
       "  <th>Time:</th>                   <td>11:22:34</td>       <th>  Log-Likelihood:    </th> <td> -696.71</td>\n",
       "</tr>\n",
       "<tr>\n",
       "  <th>No. Observations:</th>        <td>   188</td>        <th>  AIC:               </th> <td>   1397.</td>\n",
       "</tr>\n",
       "<tr>\n",
       "  <th>Df Residuals:</th>            <td>   186</td>        <th>  BIC:               </th> <td>   1404.</td>\n",
       "</tr>\n",
       "<tr>\n",
       "  <th>Df Model:</th>                <td>     1</td>        <th>                     </th>     <td> </td>   \n",
       "</tr>\n",
       "<tr>\n",
       "  <th>Covariance Type:</th>        <td>nonrobust</td>      <th>                     </th>     <td> </td>   \n",
       "</tr>\n",
       "</table>\n",
       "<table class=\"simpletable\">\n",
       "<tr>\n",
       "             <td></td>               <th>coef</th>     <th>std err</th>      <th>t</th>      <th>P>|t|</th>  <th>[0.025</th>    <th>0.975]</th>  \n",
       "</tr>\n",
       "<tr>\n",
       "  <th>const</th>                  <td>   16.4218</td> <td>    1.313</td> <td>   12.510</td> <td> 0.000</td> <td>   13.832</td> <td>   19.012</td>\n",
       "</tr>\n",
       "<tr>\n",
       "  <th>VCR per 100,000 People</th> <td>   -0.0094</td> <td>    0.002</td> <td>   -5.277</td> <td> 0.000</td> <td>   -0.013</td> <td>   -0.006</td>\n",
       "</tr>\n",
       "</table>\n",
       "<table class=\"simpletable\">\n",
       "<tr>\n",
       "  <th>Omnibus:</th>       <td>77.506</td> <th>  Durbin-Watson:     </th> <td>   1.725</td>\n",
       "</tr>\n",
       "<tr>\n",
       "  <th>Prob(Omnibus):</th> <td> 0.000</td> <th>  Jarque-Bera (JB):  </th> <td> 335.121</td>\n",
       "</tr>\n",
       "<tr>\n",
       "  <th>Skew:</th>          <td> 1.555</td> <th>  Prob(JB):          </th> <td>1.70e-73</td>\n",
       "</tr>\n",
       "<tr>\n",
       "  <th>Kurtosis:</th>      <td> 8.754</td> <th>  Cond. No.          </th> <td>1.34e+03</td>\n",
       "</tr>\n",
       "</table><br/><br/>Notes:<br/>[1] Standard Errors assume that the covariance matrix of the errors is correctly specified.<br/>[2] The condition number is large, 1.34e+03. This might indicate that there are<br/>strong multicollinearity or other numerical problems."
      ],
      "text/plain": [
       "<class 'statsmodels.iolib.summary.Summary'>\n",
       "\"\"\"\n",
       "                             OLS Regression Results                             \n",
       "================================================================================\n",
       "Dep. Variable:     % Change (2010-2020)   R-squared:                       0.130\n",
       "Model:                              OLS   Adj. R-squared:                  0.126\n",
       "Method:                   Least Squares   F-statistic:                     27.85\n",
       "Date:                  Tue, 23 Aug 2022   Prob (F-statistic):           3.63e-07\n",
       "Time:                          11:22:34   Log-Likelihood:                -696.71\n",
       "No. Observations:                   188   AIC:                             1397.\n",
       "Df Residuals:                       186   BIC:                             1404.\n",
       "Df Model:                             1                                         \n",
       "Covariance Type:              nonrobust                                         \n",
       "==========================================================================================\n",
       "                             coef    std err          t      P>|t|      [0.025      0.975]\n",
       "------------------------------------------------------------------------------------------\n",
       "const                     16.4218      1.313     12.510      0.000      13.832      19.012\n",
       "VCR per 100,000 People    -0.0094      0.002     -5.277      0.000      -0.013      -0.006\n",
       "==============================================================================\n",
       "Omnibus:                       77.506   Durbin-Watson:                   1.725\n",
       "Prob(Omnibus):                  0.000   Jarque-Bera (JB):              335.121\n",
       "Skew:                           1.555   Prob(JB):                     1.70e-73\n",
       "Kurtosis:                       8.754   Cond. No.                     1.34e+03\n",
       "==============================================================================\n",
       "\n",
       "Notes:\n",
       "[1] Standard Errors assume that the covariance matrix of the errors is correctly specified.\n",
       "[2] The condition number is large, 1.34e+03. This might indicate that there are\n",
       "strong multicollinearity or other numerical problems.\n",
       "\"\"\""
      ]
     },
     "execution_count": 12,
     "metadata": {},
     "output_type": "execute_result"
    }
   ],
   "source": [
    "y = crime_data['% Change (2010-2020)']\n",
    "x = crime_data['VCR per 100,000 People']\n",
    "\n",
    "x1 = sm.add_constant(x)\n",
    "results = sm.OLS(y,x1).fit()\n",
    "results.summary()"
   ]
  },
  {
   "cell_type": "code",
   "execution_count": null,
   "id": "25334388",
   "metadata": {},
   "outputs": [],
   "source": []
  }
 ],
 "metadata": {
  "kernelspec": {
   "display_name": "Python 3 (ipykernel)",
   "language": "python",
   "name": "python3"
  },
  "language_info": {
   "codemirror_mode": {
    "name": "ipython",
    "version": 3
   },
   "file_extension": ".py",
   "mimetype": "text/x-python",
   "name": "python",
   "nbconvert_exporter": "python",
   "pygments_lexer": "ipython3",
   "version": "3.10.4"
  },
  "vscode": {
   "interpreter": {
    "hash": "74c6f4b80a998ea66745b22baea1a08d09c815c8d65aa62c370d86a58160baeb"
   }
  }
 },
 "nbformat": 4,
 "nbformat_minor": 5
}
